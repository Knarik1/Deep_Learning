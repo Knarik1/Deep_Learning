{
 "cells": [
  {
   "cell_type": "code",
   "execution_count": 168,
   "metadata": {},
   "outputs": [],
   "source": [
    "import numpy as np\n",
    "import matplotlib.pyplot as plt"
   ]
  },
  {
   "cell_type": "markdown",
   "metadata": {},
   "source": [
    "### a) Generate N = 10000 random numbers from [0, 1]:"
   ]
  },
  {
   "cell_type": "code",
   "execution_count": 169,
   "metadata": {
    "scrolled": true
   },
   "outputs": [
    {
     "name": "stdout",
     "output_type": "stream",
     "text": [
      "X train shape is  (10000, 1)\n",
      "y train shape is  (10000, 1)\n"
     ]
    }
   ],
   "source": [
    "N_train = 10000\n",
    "N_valid = 2000\n",
    "N_test = 2000\n",
    "np.random.seed(41)\n",
    "\n",
    "X_train = np.random.rand(N_train,1)\n",
    "y_train = np.sqrt(1+X_train)\n",
    "\n",
    "X_valid = np.random.rand(N_valid,1)\n",
    "y_valid = np.sqrt(1+X_valid)\n",
    "\n",
    "X_test = np.random.rand(N_test,1)\n",
    "y_test = np.sqrt(1+X_test)\n",
    "\n",
    "print(\"X train shape is \", X_train.shape)\n",
    "print(\"y train shape is \", y_train.shape)  "
   ]
  },
  {
   "cell_type": "code",
   "execution_count": 170,
   "metadata": {},
   "outputs": [
    {
     "name": "stdout",
     "output_type": "stream",
     "text": [
      "b is  1.6243453636632417\n",
      "w is  -0.6117564136500754\n"
     ]
    }
   ],
   "source": [
    "np.random.seed(1)\n",
    "\n",
    "b = np.random.normal()\n",
    "w = np.random.normal()\n",
    "print(\"b is \", b)\n",
    "print(\"w is \", w)"
   ]
  },
  {
   "cell_type": "markdown",
   "metadata": {},
   "source": [
    "### b) Do linear regression on your generated data using stochastic gradient descent (implement yourself)."
   ]
  },
  {
   "cell_type": "code",
   "execution_count": 171,
   "metadata": {},
   "outputs": [],
   "source": [
    "def mse(a, ahat):\n",
    "    mse = np.mean(np.square(a - ahat))\n",
    "    return mse"
   ]
  },
  {
   "cell_type": "code",
   "execution_count": 172,
   "metadata": {},
   "outputs": [],
   "source": [
    "# loss function for one observation\n",
    "def loss_i(x, y, w, b):\n",
    "    yhat = w*x + b\n",
    "    loss = np.square(yhat - y)\n",
    "    return yhat, loss"
   ]
  },
  {
   "cell_type": "code",
   "execution_count": 173,
   "metadata": {},
   "outputs": [],
   "source": [
    "# gradients for w and b\n",
    "def grads_i(x, y, yhat):\n",
    "    dw = 1/2 *(yhat - y)*x\n",
    "    db = 1/2 *(yhat - y)\n",
    "    \n",
    "    grads = {\n",
    "        'dw': dw,\n",
    "        'db': db\n",
    "    }\n",
    "    return grads"
   ]
  },
  {
   "cell_type": "code",
   "execution_count": 174,
   "metadata": {},
   "outputs": [],
   "source": [
    "# shuffle 2 arrays keeping (x,y) pairs relation \n",
    "def shuffle(x_arr,y_arr):\n",
    "    n = len(x_arr)\n",
    "    # concatenate two arrays\n",
    "    merged_arr = np.concatenate((x_arr, y_arr), axis=1)\n",
    "    # shuffle\n",
    "    np.random.shuffle(merged_arr)\n",
    "    # split and reshape for keeping dims\n",
    "    x_arr = merged_arr.T[0].reshape(n, 1)\n",
    "    y_arr = merged_arr.T[1].reshape(n, 1)\n",
    "    \n",
    "    return (x_arr, y_arr)"
   ]
  },
  {
   "cell_type": "code",
   "execution_count": 175,
   "metadata": {},
   "outputs": [],
   "source": [
    "def sgd(X, y, w, b, lr, num_epoch, print_losses=True):\n",
    "    n = len(X)\n",
    "    losses = []\n",
    "    for j in range(num_epoch):\n",
    "        (X, y) = shuffle(X, y)\n",
    "        loss_sum = 0  \n",
    "        \n",
    "        for i in range(n):\n",
    "            # compute loss\n",
    "            (yhat_i, loss) = loss_i(X[i], y[i], w, b)\n",
    "            loss_sum +=loss\n",
    "            # compute w, b gradients\n",
    "            grads = grads_i(X[i], y[i], yhat_i)\n",
    "            # update params\n",
    "            w = w - lr*grads['dw']\n",
    "            b = b - lr*grads['db']\n",
    "             \n",
    "        loss_sum = loss_sum/n\n",
    "        losses.append(loss_sum)\n",
    "        \n",
    "        if print_losses:\n",
    "            print(\"Loss in epoch \", j, loss_sum) \n",
    "        \n",
    "    params = {\n",
    "        'w': w,\n",
    "        'b': b\n",
    "    }\n",
    "    \n",
    "    return params, losses"
   ]
  },
  {
   "cell_type": "code",
   "execution_count": 176,
   "metadata": {},
   "outputs": [],
   "source": [
    "def predict(X, w, b):\n",
    "    # vector multiplication and broadcasting\n",
    "    yhat = w*X + b\n",
    "    return yhat"
   ]
  },
  {
   "cell_type": "code",
   "execution_count": 177,
   "metadata": {},
   "outputs": [],
   "source": [
    "def plot_losses(losses, lr):\n",
    "    losses = np.squeeze(losses)\n",
    "    plt.plot(losses)\n",
    "    plt.ylabel('Loss')\n",
    "    plt.xlabel('Epochs')\n",
    "    plt.title(\"Learning rate is \" + str(lr))\n",
    "    plt.show()"
   ]
  },
  {
   "cell_type": "code",
   "execution_count": 178,
   "metadata": {
    "scrolled": false
   },
   "outputs": [
    {
     "name": "stdout",
     "output_type": "stream",
     "text": [
      "Loss in epoch  0 [0.01426487]\n",
      "Loss in epoch  1 [4.74183095e-05]\n",
      "Loss in epoch  2 [2.78722286e-05]\n",
      "Loss in epoch  3 [2.78456404e-05]\n",
      "Loss in epoch  4 [2.78352326e-05]\n",
      "Loss in epoch  5 [2.78481851e-05]\n",
      "Loss in epoch  6 [2.78382152e-05]\n",
      "Loss in epoch  7 [2.78143356e-05]\n",
      "Loss in epoch  8 [2.78530219e-05]\n",
      "Loss in epoch  9 [2.78463027e-05]\n"
     ]
    }
   ],
   "source": [
    "(params, losses) = sgd(X_train, y_train, w, b, 0.01, 10)"
   ]
  },
  {
   "cell_type": "code",
   "execution_count": 179,
   "metadata": {},
   "outputs": [],
   "source": [
    "def model(X_train, y_train, X_test, y_test, w, b, lr, num_epoch, bs=None, print_losses=True, print_params=True, print_lr_plt=True):\n",
    "    # get parameters\n",
    "    if bs is None:\n",
    "        (params, losses) = sgd(X_train, y_train, w, b, lr, num_epoch, print_losses=print_losses)\n",
    "    else:\n",
    "        (params, losses) = mbgd(X_train, y_train, w, b, lr, num_epoch, bs, print_losses=print_losses)\n",
    "        \n",
    "    w = params[\"w\"]\n",
    "    b = params[\"b\"]\n",
    "\n",
    "    # predic\n",
    "    yhat_train = predict(X_train, w, b)\n",
    "    yhat_test = predict(X_test, w, b)\n",
    "\n",
    "    # print train/test Errors\n",
    "    if print_params:\n",
    "        print(\"train MSE: \", mse(y_train, yhat_train))\n",
    "        print(\"test MSE: \", mse(y_test, yhat_test))\n",
    "        print(\"w is \", np.squeeze(w))\n",
    "        print(\"b is \", np.squeeze(b))\n",
    "        \n",
    "    if print_lr_plt:\n",
    "        plot_losses(losses, lr)"
   ]
  },
  {
   "cell_type": "code",
   "execution_count": 180,
   "metadata": {
    "scrolled": true
   },
   "outputs": [
    {
     "name": "stdout",
     "output_type": "stream",
     "text": [
      "Loss in epoch  0 [0.01427632]\n",
      "Loss in epoch  1 [4.76562802e-05]\n",
      "Loss in epoch  2 [2.78313536e-05]\n",
      "Loss in epoch  3 [2.7829918e-05]\n",
      "Loss in epoch  4 [2.78388583e-05]\n",
      "Loss in epoch  5 [2.78692418e-05]\n",
      "Loss in epoch  6 [2.78422957e-05]\n",
      "Loss in epoch  7 [2.78465729e-05]\n",
      "Loss in epoch  8 [2.7821512e-05]\n",
      "Loss in epoch  9 [2.78544154e-05]\n",
      "train MSE:  2.7751344461994843e-05\n",
      "test MSE:  2.7662975828330708e-05\n",
      "w is  0.4123043425150892\n",
      "b is  1.0129160137759432\n"
     ]
    },
    {
     "data": {
      "image/png": "[encoded data removed]",
      "text/plain": [
       "<Figure size 432x288 with 1 Axes>"
      ]
     },
     "metadata": {
      "needs_background": "light"
     },
     "output_type": "display_data"
    }
   ],
   "source": [
    "model(X_train, y_train, X_test, y_test, w, b, lr=0.01, num_epoch=10)"
   ]
  },
  {
   "cell_type": "code",
   "execution_count": 181,
   "metadata": {},
   "outputs": [],
   "source": [
    "#we can choose number of epochs=4, because after it loss changes in a very small number\n",
    "num_epoch_sgd=4"
   ]
  },
  {
   "cell_type": "code",
   "execution_count": 182,
   "metadata": {
    "scrolled": true
   },
   "outputs": [
    {
     "name": "stdout",
     "output_type": "stream",
     "text": [
      "Learning rate:  0.9\n",
      "train MSE:  2.8268477083140376e-05\n",
      "test MSE:  2.822529099880734e-05\n",
      "w is  0.41278636950678566\n",
      "b is  1.0132770574634713\n",
      "\n",
      "-------------------------------------------------------\n",
      "\n",
      "Learning rate:  0.5\n",
      "train MSE:  2.995838830276948e-05\n",
      "test MSE:  3.0073931924456585e-05\n",
      "w is  0.41340027786359107\n",
      "b is  1.010825317478944\n",
      "\n",
      "-------------------------------------------------------\n",
      "\n",
      "Learning rate:  0.1\n",
      "train MSE:  2.796063478816663e-05\n",
      "test MSE:  2.7900791304385797e-05\n",
      "w is  0.41086148455253557\n",
      "b is  1.0138355075158185\n",
      "\n",
      "-------------------------------------------------------\n",
      "\n",
      "Learning rate:  0.01\n",
      "train MSE:  2.780831561888738e-05\n",
      "test MSE:  2.7818570516449228e-05\n",
      "w is  0.4124391899974325\n",
      "b is  1.0124996460057603\n",
      "\n",
      "-------------------------------------------------------\n",
      "\n",
      "Learning rate:  0.001\n",
      "train MSE:  3.120972679318956e-05\n",
      "test MSE:  3.107787351258686e-05\n",
      "w is  0.4118333046554628\n",
      "b is  1.014910948260065\n",
      "\n",
      "-------------------------------------------------------\n",
      "\n",
      "Learning rate:  0.0001\n",
      "train MSE:  2.7987217037290722e-05\n",
      "test MSE:  2.7990417186883717e-05\n",
      "w is  0.4135981102142494\n",
      "b is  1.0124298447891618\n",
      "\n",
      "-------------------------------------------------------\n",
      "\n"
     ]
    }
   ],
   "source": [
    "# tuning learning rate\n",
    "learning_rates = [0.9, 0.5, 0.1, 0.01, 0.001, 0.0001]\n",
    "for i in learning_rates:\n",
    "    print(\"Learning rate: \", i)\n",
    "    model(X_train, y_train, X_valid, y_valid, w, b, lr=0.1, num_epoch=num_epoch_sgd, print_lr_plt=False, print_losses=False)\n",
    "    print('\\n' + \"-------------------------------------------------------\" + '\\n')"
   ]
  },
  {
   "cell_type": "code",
   "execution_count": 204,
   "metadata": {},
   "outputs": [],
   "source": [
    "# test MSE is relative smaller when lr=0.01, so\n",
    "lr_sgd=0.01"
   ]
  },
  {
   "cell_type": "code",
   "execution_count": 205,
   "metadata": {},
   "outputs": [],
   "source": [
    "(params, losses) = sgd(X_train, y_train, w, b, lr=lr_sgd, num_epoch=num_epoch_sgd, print_losses=False)\n",
    "y_pred_sgd = predict(X_test, params['w'], params['b'])"
   ]
  },
  {
   "cell_type": "markdown",
   "metadata": {},
   "source": [
    "### c) Do linear regression on your generated data using mini-bacth gradient descent (implement yourself)."
   ]
  },
  {
   "cell_type": "code",
   "execution_count": 206,
   "metadata": {},
   "outputs": [],
   "source": [
    "# loss function for one batch\n",
    "def loss_i(X, y, w, b):\n",
    "    yhat = w*X + b\n",
    "    loss = np.mean(np.square(yhat - y))\n",
    "    return yhat, loss"
   ]
  },
  {
   "cell_type": "code",
   "execution_count": 207,
   "metadata": {},
   "outputs": [],
   "source": [
    "# gradients for w and b\n",
    "def grads_batch(x, y, yhat):\n",
    "    bs = len(x)\n",
    "    dw = 1/(2*bs) *(yhat - y).T.dot(x)\n",
    "    db = 1/(2*bs) *np.sum(yhat - y)\n",
    "    \n",
    "    grads = {\n",
    "        'dw': dw,\n",
    "        'db': db\n",
    "    }\n",
    "    return grads"
   ]
  },
  {
   "cell_type": "code",
   "execution_count": 208,
   "metadata": {},
   "outputs": [],
   "source": [
    "def mbgd(X, y, w, b, lr, num_epoch, bs, print_losses=True):\n",
    "    num_iter = np.ceil(len(X)/bs)\n",
    "    \n",
    "    losses = []\n",
    "\n",
    "    for j in range(num_epoch):\n",
    "        (X, y) = shuffle(X, y)\n",
    "        loss_sum = 0  \n",
    "        \n",
    "        for i in range(1, int(num_iter)+1):\n",
    "            #if you want X[a:b] and b is out of bounds X array, it will return X[a:c], where c<b, without throwing an error  \n",
    "            X_batch = X[(i-1)*bs : i*bs]\n",
    "            y_batch = y[(i-1)*bs : i*bs]\n",
    "            # compute loss\n",
    "            (yhat, loss) = loss_i(X_batch, y_batch, w, b )\n",
    "            loss_sum += loss\n",
    "            # compute w, b gradients\n",
    "            grads = grads_batch(X_batch, y_batch, yhat)\n",
    "            # update params\n",
    "            w = w - lr*grads['dw']\n",
    "            b = b - lr*grads['db']\n",
    "             \n",
    "        loss_sum = loss_sum/num_iter\n",
    "        losses.append(loss_sum)\n",
    "        \n",
    "        if print_losses:\n",
    "            if num_epoch>100 and j%100==0:\n",
    "                print(\"Loss in epoch \", j, loss_sum)\n",
    "            \n",
    "            elif num_epoch>20 and num_epoch<=100 and j%5==0:\n",
    "                print(\"Loss in epoch \", j, loss_sum)\n",
    "                \n",
    "            elif num_epoch<=20:\n",
    "                print(\"Loss in epoch \", j, loss_sum)    \n",
    "        \n",
    "    params = {\n",
    "        'w': w,\n",
    "        'b': b\n",
    "    }\n",
    "    \n",
    "    return params, losses"
   ]
  },
  {
   "cell_type": "code",
   "execution_count": 209,
   "metadata": {
    "scrolled": true
   },
   "outputs": [
    {
     "name": "stdout",
     "output_type": "stream",
     "text": [
      "Loss in epoch  0 0.09254348269867353\n",
      "Loss in epoch  100 0.00015525306669168977\n",
      "Loss in epoch  200 2.7920363285965567e-05\n",
      "Loss in epoch  300 2.7740693258792758e-05\n",
      "Loss in epoch  400 2.773977159672656e-05\n",
      "Loss in epoch  500 2.774014413807105e-05\n",
      "Loss in epoch  600 2.7740113288882722e-05\n",
      "Loss in epoch  700 2.7740140061818567e-05\n",
      "Loss in epoch  800 2.774001975796426e-05\n",
      "Loss in epoch  900 2.7739677556704946e-05\n",
      "Loss in epoch  1000 2.774003763467427e-05\n"
     ]
    }
   ],
   "source": [
    "(params, losses) = mbgd(X_train, y_train, w, b, lr=0.01, num_epoch=1001, bs=100)"
   ]
  },
  {
   "cell_type": "code",
   "execution_count": 210,
   "metadata": {},
   "outputs": [],
   "source": [
    "#we can choose number of epochs=300, because after it loss changes in a very small number\n",
    "num_epoch_mbgd=300"
   ]
  },
  {
   "cell_type": "code",
   "execution_count": 211,
   "metadata": {
    "scrolled": false
   },
   "outputs": [
    {
     "name": "stdout",
     "output_type": "stream",
     "text": [
      "Learning rate:  0.9\n",
      "train MSE:  2.773853783691418e-05\n",
      "test MSE:  2.7724037932346782e-05\n",
      "w is  0.41206391674942233\n",
      "b is  1.012937866922004\n",
      "\n",
      "-------------------------------------------------------\n",
      "\n",
      "Learning rate:  0.5\n",
      "train MSE:  2.773853674663383e-05\n",
      "test MSE:  2.7724015392925952e-05\n",
      "w is  0.41206445852294005\n",
      "b is  1.0129381546903278\n",
      "\n",
      "-------------------------------------------------------\n",
      "\n",
      "Learning rate:  0.1\n",
      "train MSE:  2.7738537028203958e-05\n",
      "test MSE:  2.7724171647846694e-05\n",
      "w is  0.41206295389461667\n",
      "b is  1.0129357857305352\n",
      "\n",
      "-------------------------------------------------------\n",
      "\n",
      "Learning rate:  0.01\n",
      "train MSE:  2.7738599051113434e-05\n",
      "test MSE:  2.7723756641904173e-05\n",
      "w is  0.41206697357200484\n",
      "b is  1.0129430947539366\n",
      "\n",
      "-------------------------------------------------------\n",
      "\n",
      "Learning rate:  0.005\n",
      "train MSE:  2.7738560467841887e-05\n",
      "test MSE:  2.772387830803222e-05\n",
      "w is  0.4120651240913809\n",
      "b is  1.0129406969047927\n",
      "\n",
      "-------------------------------------------------------\n",
      "\n",
      "Learning rate:  0.001\n",
      "train MSE:  2.773854345862228e-05\n",
      "test MSE:  2.772420229037186e-05\n",
      "w is  0.41206222919774205\n",
      "b is  1.0129354734190843\n",
      "\n",
      "-------------------------------------------------------\n",
      "\n"
     ]
    }
   ],
   "source": [
    "# tuning learning rate\n",
    "learning_rates = [0.9, 0.5, 0.1, 0.01, 0.005, 0.001]\n",
    "for i in learning_rates:\n",
    "    print(\"Learning rate: \", i)\n",
    "    model(X_train, y_train, X_valid, y_valid, w, b, lr=0.01, num_epoch=num_epoch_mbgd, bs=100, print_lr_plt=False, print_losses=False)\n",
    "    print('\\n' + \"-------------------------------------------------------\" + '\\n')"
   ]
  },
  {
   "cell_type": "code",
   "execution_count": 212,
   "metadata": {},
   "outputs": [],
   "source": [
    "# test MSE is nearly equal in all cases, so we can just choose lr=0.1\n",
    "lr_mbgd=0.1"
   ]
  },
  {
   "cell_type": "code",
   "execution_count": 213,
   "metadata": {
    "scrolled": true
   },
   "outputs": [
    {
     "name": "stdout",
     "output_type": "stream",
     "text": [
      "Batch size:  10\n",
      "train MSE:  2.7844953921548377e-05\n",
      "test MSE:  2.7855106515967928e-05\n",
      "w is  0.4122422807516018\n",
      "b is  1.0125211361370274\n",
      "\n",
      "-------------------------------------------------------\n",
      "\n",
      "Batch size:  100\n",
      "train MSE:  2.7739041255296332e-05\n",
      "test MSE:  2.7724770882141826e-05\n",
      "w is  0.4121365920476384\n",
      "b is  1.0129257158196145\n",
      "\n",
      "-------------------------------------------------------\n",
      "\n",
      "Batch size:  300\n",
      "train MSE:  2.7739857342382058e-05\n",
      "test MSE:  2.7725116579435527e-05\n",
      "w is  0.4121474193576537\n",
      "b is  1.0129320319730841\n",
      "\n",
      "-------------------------------------------------------\n",
      "\n",
      "Batch size:  500\n",
      "train MSE:  2.7738893645001495e-05\n",
      "test MSE:  2.772712349991972e-05\n",
      "w is  0.4121068818593667\n",
      "b is  1.012888648323078\n",
      "\n",
      "-------------------------------------------------------\n",
      "\n",
      "Batch size:  1000\n",
      "train MSE:  2.773853675455924e-05\n",
      "test MSE:  2.7723998768320817e-05\n",
      "w is  0.41206481132473216\n",
      "b is  1.0129383854371976\n",
      "\n",
      "-------------------------------------------------------\n",
      "\n",
      "Batch size:  3000\n",
      "train MSE:  6.291666869070969e-05\n",
      "test MSE:  6.232231683574871e-05\n",
      "w is  0.39170609009654894\n",
      "b is  1.0238422619713259\n",
      "\n",
      "-------------------------------------------------------\n",
      "\n"
     ]
    }
   ],
   "source": [
    "# tuning batch size\n",
    "batch_sizes = [10, 100, 300, 500, 1000, 3000]\n",
    "for i in batch_sizes:\n",
    "    print(\"Batch size: \", i)\n",
    "    model(X_train, y_train, X_valid, y_valid, w, b, lr=lr_mbgd, num_epoch=num_epoch_mbgd, bs=i, print_lr_plt=False, print_losses=False)\n",
    "    print('\\n' + \"-------------------------------------------------------\" + '\\n')"
   ]
  },
  {
   "cell_type": "code",
   "execution_count": 214,
   "metadata": {},
   "outputs": [],
   "source": [
    "#we can choose batch size=1000, with fixed lr=0.1 and num_epoch=300\n",
    "bs_mbgd=1000"
   ]
  },
  {
   "cell_type": "code",
   "execution_count": 215,
   "metadata": {},
   "outputs": [],
   "source": [
    "\n",
    "(params, losses) = mbgd(X_train, y_train, w, b, lr=lr_mbgd, num_epoch=num_epoch_mbgd, bs=bs_mbgd, print_losses=False)\n",
    "y_pred_mbgd = predict(X_test, params['w'], params['b'])"
   ]
  },
  {
   "cell_type": "markdown",
   "metadata": {},
   "source": [
    "### d) Do linear regression on your generated data using tensorflow."
   ]
  },
  {
   "cell_type": "code",
   "execution_count": 216,
   "metadata": {},
   "outputs": [],
   "source": [
    "import tensorflow as tf"
   ]
  },
  {
   "cell_type": "code",
   "execution_count": 217,
   "metadata": {},
   "outputs": [],
   "source": [
    "x_tf = tf.placeholder(tf.float32, shape=(None, 1), name='x_label')\n",
    "y_tf = tf.placeholder(tf.float32, shape=(None, 1), name='y_label')\n",
    "y_pred_tf = tf.placeholder(tf.float32, shape=(None, 1), name='y_label')\n",
    "\n",
    "w_tf = tf.Variable(w, name='w')\n",
    "b_tf = tf.Variable(b, name='b')"
   ]
  },
  {
   "cell_type": "code",
   "execution_count": 218,
   "metadata": {},
   "outputs": [],
   "source": [
    "def linear_regression(X, y, w, b):\n",
    "    y_pred = tf.add(tf.multiply(w, X), b)\n",
    "    loss = tf.reduce_mean(tf.square(y_pred - y))\n",
    "        \n",
    "    return y_pred, loss"
   ]
  },
  {
   "cell_type": "code",
   "execution_count": 219,
   "metadata": {},
   "outputs": [],
   "source": [
    "def train(X_train, y_train, X_test, y_test, lr, num_epoch):\n",
    "    y_pred, loss = linear_regression(x_tf, y_tf, w_tf, b_tf)\n",
    "\n",
    "    optimizer = tf.train.GradientDescentOptimizer(lr)\n",
    "    train_op = optimizer.minimize(loss)\n",
    "    init = tf.global_variables_initializer() \n",
    "\n",
    "    with tf.Session() as session:\n",
    "        session.run(init)\n",
    "        feed_dict = {x_tf: X_train, y_tf: y_train}\n",
    "        print('initial w is ', session.run(w_tf))\n",
    "        print('initial b is ', session.run(b_tf))\n",
    "\n",
    "        for j in range(num_epoch):\n",
    "            session.run(train_op, feed_dict)\n",
    "            \n",
    "            if j%50==0:\n",
    "                print(\"Loss in epoch \", j, \" is \", session.run(loss, feed_dict))\n",
    "                \n",
    "        y_pred = session.run(y_pred, {x_tf : X_train})\n",
    "        \n",
    "        print(\"train MSE: \",  session.run(loss, feed_dict))\n",
    "        print(\"test MSE: \", session.run(loss, feed_dict={x_tf: X_test, y_tf: y_test}))\n",
    "        print(\"w is \", session.run(w_tf))\n",
    "        print(\"b is \", session.run(b_tf))\n",
    "\n",
    "        # save the variable in the disk\n",
    "        saved_path = saver.save(session, './saved_variable')\n",
    "\n",
    "    plt.scatter(X_train, y_train)\n",
    "    plt.plot(X_train, y_pred, color='red')\n",
    "    plt.xlim(0, 1)\n",
    "    plt.ylim(0, 2)\n",
    "    plt.savefig('plot.png')"
   ]
  },
  {
   "cell_type": "code",
   "execution_count": 220,
   "metadata": {},
   "outputs": [],
   "source": [
    "# create saver object\n",
    "saver = tf.train.Saver()"
   ]
  },
  {
   "cell_type": "code",
   "execution_count": 221,
   "metadata": {
    "scrolled": true
   },
   "outputs": [
    {
     "name": "stdout",
     "output_type": "stream",
     "text": [
      "initial w is  -0.6117564\n",
      "initial b is  1.6243454\n",
      "Loss in epoch  0  is  0.09302748\n",
      "Loss in epoch  50  is  0.024227692\n",
      "Loss in epoch  100  is  0.0064888075\n",
      "Loss in epoch  150  is  0.0017527629\n",
      "Loss in epoch  200  is  0.00048829825\n",
      "Loss in epoch  250  is  0.00015070145\n",
      "Loss in epoch  300  is  6.0568393e-05\n",
      "Loss in epoch  350  is  3.6503567e-05\n",
      "Loss in epoch  400  is  3.0078518e-05\n",
      "Loss in epoch  450  is  2.836312e-05\n",
      "Loss in epoch  500  is  2.7905091e-05\n",
      "Loss in epoch  550  is  2.7782798e-05\n",
      "train MSE:  2.7782798e-05\n",
      "test MSE:  2.7683753e-05\n",
      "w is  0.41139215\n",
      "b is  1.0132948\n"
     ]
    },
    {
     "data": {
      "image/png": "[encoded data removed]",
      "text/plain": [
       "<Figure size 432x288 with 1 Axes>"
      ]
     },
     "metadata": {
      "needs_background": "light"
     },
     "output_type": "display_data"
    }
   ],
   "source": [
    "train(X_train, y_train, X_test, y_test, 0.1, 551)"
   ]
  },
  {
   "cell_type": "code",
   "execution_count": 222,
   "metadata": {},
   "outputs": [
    {
     "name": "stdout",
     "output_type": "stream",
     "text": [
      "INFO:tensorflow:Restoring parameters from ./saved_variable\n",
      "w =  0.41139215\n",
      "w =  1.0132948\n",
      "[[1.3457842]\n",
      " [1.0249375]\n",
      " [1.2954688]\n",
      " ...\n",
      " [1.1737128]\n",
      " [1.2720871]\n",
      " [1.0553604]]\n"
     ]
    }
   ],
   "source": [
    "init = tf.global_variables_initializer()\n",
    "\n",
    "with tf.Session() as session:\n",
    "    session.run(init)\n",
    "    saver.restore(session, './saved_variable')\n",
    "    \n",
    "    # print the loaded variable\n",
    "    w_tf_restored, b_tf_restored = session.run([w_tf, b_tf])\n",
    "    \n",
    "    #predict y values for test data using saved w, b\n",
    "    y_pred, loss = linear_regression(X_test, y_test, w_tf_restored, b_tf_restored)\n",
    "    y_pred_tf = session.run(y_pred)\n",
    "    \n",
    "    print('w = ', w_tf_restored)\n",
    "    print('w = ', b_tf_restored)    \n",
    "print(y_pred_tf)"
   ]
  },
  {
   "cell_type": "markdown",
   "metadata": {},
   "source": [
    "### e) Sketch the graphs of all approximations on one graph."
   ]
  },
  {
   "cell_type": "code",
   "execution_count": 224,
   "metadata": {
    "scrolled": false
   },
   "outputs": [
    {
     "data": {
      "image/png": "[encoded data removed]",
      "text/plain": [
       "<Figure size 1080x360 with 1 Axes>"
      ]
     },
     "metadata": {
      "needs_background": "light"
     },
     "output_type": "display_data"
    }
   ],
   "source": [
    "plt.figure(figsize=(15,5))\n",
    "\n",
    "plt.scatter(X_test, y_test, color='k', label='Real Line', s=10, alpha=0.5)\n",
    "plt.scatter(X_test, y_pred_sgd, color='r', label='SGD lr=0.01, epoch=4', s=8, alpha=0.5)\n",
    "plt.scatter(X_test, y_pred_mbgd, color='b', label='MBGD lr=0.1, epoch=300, bs=1000', s=4, alpha=0.5)\n",
    "plt.scatter(X_test, y_pred_tf, color='y', label='TF lr=0.1, epoch=551', s=2, alpha=0.5)\n",
    "\n",
    "plt.xlim(0, 1)\n",
    "plt.ylim(0, 2)  \n",
    "\n",
    "plt.legend()\n",
    "plt.show()"
   ]
  },
  {
   "cell_type": "markdown",
   "metadata": {},
   "source": [
    "### f) Compare all solutions with the first degree Taylor approximation of the function √ 1 + x."
   ]
  },
  {
   "cell_type": "code",
   "execution_count": 225,
   "metadata": {
    "scrolled": true
   },
   "outputs": [
    {
     "data": {
      "text/plain": [
       "array([[1.35056924],\n",
       "       [1.03217443],\n",
       "       [1.30063828],\n",
       "       [1.05000486],\n",
       "       [1.02517399]])"
      ]
     },
     "execution_count": 225,
     "metadata": {},
     "output_type": "execute_result"
    }
   ],
   "source": [
    "# let's take the aprroximations near the point 0.5 \n",
    "T1 = np.sqrt(1+0.5) + 1/(2 * np.sqrt(1+0.5)) * (X_test-0.5)\n",
    "T1[:5]"
   ]
  },
  {
   "cell_type": "markdown",
   "metadata": {},
   "source": [
    "#### Comparing Taylor approximation with SGD"
   ]
  },
  {
   "cell_type": "code",
   "execution_count": 228,
   "metadata": {
    "scrolled": true
   },
   "outputs": [
    {
     "data": {
      "image/png": "[encoded data removed]",
      "text/plain": [
       "<Figure size 1080x360 with 1 Axes>"
      ]
     },
     "metadata": {
      "needs_background": "light"
     },
     "output_type": "display_data"
    }
   ],
   "source": [
    "plt.figure(figsize=(15,5))\n",
    "\n",
    "plt.scatter(X_test, y_test, color='k', label='Real Line', s=10, alpha=0.5)\n",
    "plt.scatter(X_test, y_pred_sgd, color='r', label='SGD lr=0.01, epoch=4', s=8, alpha=0.5)\n",
    "plt.scatter(X_test, T1, color='b', label='Taylor approximation', s=2, alpha=0.5)\n",
    " \n",
    "plt.xlim(0, 1)\n",
    "plt.ylim(0, 2)      \n",
    "\n",
    "plt.legend()\n",
    "plt.show()"
   ]
  },
  {
   "cell_type": "markdown",
   "metadata": {},
   "source": [
    "#### Comparing Taylor approximation with MBGD"
   ]
  },
  {
   "cell_type": "code",
   "execution_count": 234,
   "metadata": {
    "scrolled": true
   },
   "outputs": [
    {
     "data": {
      "image/png": "[encoded data removed]",
      "text/plain": [
       "<Figure size 1080x360 with 1 Axes>"
      ]
     },
     "metadata": {
      "needs_background": "light"
     },
     "output_type": "display_data"
    }
   ],
   "source": [
    "plt.figure(figsize=(15,5))\n",
    "\n",
    "plt.scatter(X_test, y_test, color='k', label='Real Line', s=10, alpha=0.5)\n",
    "plt.scatter(X_test, y_pred_mbgd, color='r', label='MBGD lr=0.1, epoch=300, bs=1000', s=8, alpha=0.5)\n",
    "plt.scatter(X_test, T1, color='b', label='Taylor approximation', s=2, alpha=0.5)\n",
    " \n",
    "plt.xlim(0, 1)\n",
    "plt.ylim(0, 2)      \n",
    "\n",
    "plt.legend()\n",
    "plt.show()"
   ]
  },
  {
   "cell_type": "markdown",
   "metadata": {},
   "source": [
    "#### Comparing Taylor approximation with TF"
   ]
  },
  {
   "cell_type": "code",
   "execution_count": 235,
   "metadata": {},
   "outputs": [
    {
     "data": {
      "image/png": "[encoded data removed]",
      "text/plain": [
       "<Figure size 1080x360 with 1 Axes>"
      ]
     },
     "metadata": {
      "needs_background": "light"
     },
     "output_type": "display_data"
    }
   ],
   "source": [
    "plt.figure(figsize=(15,5))\n",
    "\n",
    "plt.scatter(X_test, y_test, color='k', label='Real Line', s=10, alpha=0.5)\n",
    "plt.scatter(X_test, y_pred_tf, color='r', label='TF lr=0.1, epoch=551', s=2, alpha=0.5)\n",
    "plt.scatter(X_test, T1, color='b', label='Taylor approximation', s=2, alpha=0.5)\n",
    " \n",
    "plt.xlim(0, 1)\n",
    "plt.ylim(0, 2)      \n",
    "\n",
    "plt.legend()\n",
    "plt.show()"
   ]
  },
  {
   "cell_type": "code",
   "execution_count": null,
   "metadata": {},
   "outputs": [],
   "source": []
  }
 ],
 "metadata": {
  "kernelspec": {
   "display_name": "Python 3",
   "language": "python",
   "name": "python3"
  },
  "language_info": {
   "codemirror_mode": {
    "name": "ipython",
    "version": 3
   },
   "file_extension": ".py",
   "mimetype": "text/x-python",
   "name": "python",
   "nbconvert_exporter": "python",
   "pygments_lexer": "ipython3",
   "version": "3.5.2"
  }
 },
 "nbformat": 4,
 "nbformat_minor": 2
}
